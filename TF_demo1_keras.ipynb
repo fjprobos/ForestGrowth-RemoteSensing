{
 "cells": [
  {
   "cell_type": "code",
   "execution_count": 2,
   "metadata": {
    "colab": {},
    "colab_type": "code",
    "id": "fSIfBsgi8dNK",
    "pycharm": {
     "is_executing": false
    }
   },
   "outputs": [],
   "source": [
    "#@title Copyright 2019 Google LLC. { display-mode: \"form\" }\n",
    "# Licensed under the Apache License, Version 2.0 (the \"License\");\n",
    "# you may not use this file except in compliance with the License.\n",
    "# You may obtain a copy of the License at\n",
    "#\n",
    "# https://www.apache.org/licenses/LICENSE-2.0\n",
    "#\n",
    "# Unless required by applicable law or agreed to in writing, software\n",
    "# distributed under the License is distributed on an \"AS IS\" BASIS,\n",
    "# WITHOUT WARRANTIES OR CONDITIONS OF ANY KIND, either express or implied.\n",
    "# See the License for the specific language governing permissions and\n",
    "# limitations under the License."
   ]
  },
  {
   "cell_type": "code",
   "execution_count": 1,
   "metadata": {
    "pycharm": {
     "is_executing": false
    }
   },
   "outputs": [
    {
     "name": "stdout",
     "output_type": "stream",
     "text": [
      "env: GOOGLE_APPLICATION_CREDENTIALS=C:\\Users\\Pancho\\Desktop\\Sourcetree Repos\\ForestGrowth-RemoteSensingForest-Growth-6941f96d972a\n"
     ]
    }
   ],
   "source": [
    "#%env GOOGLE_APPLICATION_CREDENTIALS=/Users/Pancho/Desktop/Sourcetree Repos/ForestGrowth-RemoteSensing/Forest-Growth-21ceb7d9d5bc.json\n",
    "%env GOOGLE_APPLICATION_CREDENTIALS=C:\\Users\\Pancho\\Desktop\\Sourcetree Repos\\ForestGrowth-RemoteSensing\\Forest-Growth-6941f96d972a.json"
   ]
  },
  {
   "cell_type": "code",
   "execution_count": 7,
   "metadata": {
    "pycharm": {}
   },
   "outputs": [],
   "source": [
    "# Imports the Google Cloud client library\n",
    "from google.cloud import storage\n",
    "\n",
    "# Instantiates a client\n",
    "storage_client = storage.Client()"
   ]
  },
  {
   "cell_type": "markdown",
   "metadata": {
    "colab_type": "text",
    "id": "AC8adBmw-5m3",
    "pycharm": {}
   },
   "source": [
    "# Introduction\n",
    "\n",
    "This is an Earth Engine <> TensorFlow demonstration notebook.  Specifically, this notebook shows:\n",
    "\n",
    "1.   Exporting training/testing data from Earth Engine in TFRecord format.\n",
    "2.   Preparing the data for use in a TensorFlow model.\n",
    "2.   Training and validating a simple model (Keras `Sequential` neural network) in TensorFlow.\n",
    "3.   Making predictions on image data exported from Earth Engine in TFRecord format.\n",
    "4.   Ingesting classified image data to Earth Engine in TFRecord format.\n"
   ]
  },
  {
   "cell_type": "markdown",
   "metadata": {
    "colab_type": "text",
    "id": "qptAXhKmXo_J",
    "pycharm": {}
   },
   "source": [
    "# Authentication\n",
    "\n",
    "To read/write from a Google Cloud Storage bucket to which you have access, it's necessary to authenticate (as yourself).  You'll also need to authenticate as yourself with Earth Engine, so that you'll have access to your scripts, assets, etc."
   ]
  },
  {
   "cell_type": "markdown",
   "metadata": {
    "colab_type": "text",
    "id": "dEM3FP4YakJg",
    "pycharm": {}
   },
   "source": [
    "## Authenticate to Colab and Cloud\n",
    "\n",
    "Identify yourself to Google Cloud, so you have access to storage and other resources.  When you run the code below, it will display a link in the output to an authentication page in your browser.  Follow the link to a page that will let you grant permission to the Cloud SDK to access your resources.  Copy the code from the permissions page back into this notebook and press return to complete the process.\n",
    "\n",
    "(You may need to run this again if you get a credentials error later.)\n"
   ]
  },
  {
   "cell_type": "code",
   "execution_count": 8,
   "metadata": {
    "cellView": "code",
    "colab": {},
    "colab_type": "code",
    "id": "5qMKG1hEXuML",
    "pycharm": {}
   },
   "outputs": [],
   "source": [
    "import ee"
   ]
  },
  {
   "cell_type": "code",
   "execution_count": 9,
   "metadata": {
    "pycharm": {}
   },
   "outputs": [],
   "source": [
    "ee.Initialize()"
   ]
  },
  {
   "cell_type": "markdown",
   "metadata": {
    "colab_type": "text",
    "id": "Ejxa1MQjEGv9",
    "pycharm": {}
   },
   "source": [
    "## Authenticate to Earth Engine\n",
    "\n",
    "Authenticate to Earth Engine the same way you did to the Colab notebook.  Specifically, run the code to display a link to a permissions page.  This gives you access to your Earth Engine account.  Copy the code from the Earth Engine permissions page back into the notebook and press return to complete the process."
   ]
  },
  {
   "cell_type": "code",
   "execution_count": null,
   "metadata": {
    "cellView": "code",
    "colab": {},
    "colab_type": "code",
    "id": "HzwiVqbcmJIX",
    "pycharm": {
     "is_executing": true
    }
   },
   "outputs": [],
   "source": [
    "!earthengine authenticate # Prefereabily to be runned directly in the console"
   ]
  },
  {
   "cell_type": "markdown",
   "metadata": {
    "colab_type": "text",
    "id": "SMkNljPGMzyG",
    "pycharm": {}
   },
   "source": [
    "# Initialize and test the software setup"
   ]
  },
  {
   "cell_type": "markdown",
   "metadata": {
    "colab_type": "text",
    "id": "eJPDyllIMRAa",
    "pycharm": {}
   },
   "source": [
    "## Test the Earth Engine installation\n",
    "\n"
   ]
  },
  {
   "cell_type": "code",
   "execution_count": null,
   "metadata": {
    "colab": {},
    "colab_type": "code",
    "id": "uuAk34-HMXnG",
    "pycharm": {
     "is_executing": false
    }
   },
   "outputs": [],
   "source": [
    "# Import the Earth Engine API and initialize it.\n",
    "import ee\n",
    "ee.Initialize()\n",
    "\n",
    "# Test the earthengine command by getting help on upload.\n",
    "!earthengine upload image -h"
   ]
  },
  {
   "cell_type": "markdown",
   "metadata": {
    "colab_type": "text",
    "id": "iJ70EsoWND_0",
    "pycharm": {}
   },
   "source": [
    "## Test the TensorFlow installation\n",
    "\n",
    "The default public runtime already has the tensorflow libraries we need installed.  Before any operations from the TensorFlow API are used, import TensorFlow and enable eager execution.  This provides an imperative interface that can help with debugging.  See the [TensorFlow eager execution guide](https://www.tensorflow.org/guide/eager) or the [`tf.enable_eager_execution()` docs](https://www.tensorflow.org/api_docs/python/tf/enable_eager_execution) for details. "
   ]
  },
  {
   "cell_type": "code",
   "execution_count": 10,
   "metadata": {
    "cellView": "code",
    "colab": {},
    "colab_type": "code",
    "id": "i1PrYRLaVw_g",
    "pycharm": {}
   },
   "outputs": [
    {
     "name": "stdout",
     "output_type": "stream",
     "text": [
      "1.14.0\n"
     ]
    }
   ],
   "source": [
    "import tensorflow as tf\n",
    "\n",
    "tf.enable_eager_execution()\n",
    "print(tf.__version__)"
   ]
  },
  {
   "cell_type": "markdown",
   "metadata": {
    "colab_type": "text",
    "id": "b8Xcvjp6cLOL",
    "pycharm": {}
   },
   "source": [
    "## Test the Folium installation\n",
    "\n",
    "The default public runtime already has the Folium library we will use for visualization.  Import the library, check the version, and define the URL where Folium will look for Earth Engine generated map tiles."
   ]
  },
  {
   "cell_type": "code",
   "execution_count": 11,
   "metadata": {
    "colab": {},
    "colab_type": "code",
    "id": "YiVgOXzBZJSn",
    "pycharm": {
     "is_executing": false
    }
   },
   "outputs": [
    {
     "name": "stdout",
     "output_type": "stream",
     "text": [
      "0.10.0\n"
     ]
    }
   ],
   "source": [
    "import folium\n",
    "print(folium.__version__)\n",
    "\n",
    "# Define the URL format used for Earth Engine generated map tiles.\n",
    "EE_TILES = 'https://earthengine.googleapis.com/map/{mapid}/{{z}}/{{x}}/{{y}}?token={token}'"
   ]
  },
  {
   "cell_type": "code",
   "execution_count": 12,
   "metadata": {
    "pycharm": {
     "is_executing": false
    }
   },
   "outputs": [
    {
     "data": {
      "text/html": [
       "<img src=\"https://earthengine.googleapis.com/api/thumb?thumbid=d4e70d2b898f538578eceeccb4f8137f&token=fc70f30b627cc522b30e859334f9c62d\"/>"
      ],
      "text/plain": [
       "<IPython.core.display.Image object>"
      ]
     },
     "execution_count": 12,
     "metadata": {},
     "output_type": "execute_result"
    }
   ],
   "source": [
    "from IPython.display import Image\n",
    "Image(url=ee.Image('USGS/SRTMGL1_003').getThumbUrl({'min': 0, 'max': 3000}))"
   ]
  },
  {
   "cell_type": "markdown",
   "metadata": {
    "colab_type": "text",
    "id": "ZcjQnHH8zT4q",
    "pycharm": {}
   },
   "source": [
    "# Get Training and Testing data from Earth Engine\n",
    "\n",
    "To get data for a classification model of three classes (bare, vegetation, water), we need labels and the value of predictor variables for each labeled example.  We've already generated some labels in Earth Engine.  Specifically, these are visually interpreted points labeled \"bare,\" \"vegetation,\" or \"water\" for a very simple classification demo ([Code Editor script](https://code.earthengine.google.com/ae20232b821e753ff33fc23cfe90089a)).  For predictor variables, we'll use [Landsat 8 surface reflectance imagery](https://developers.google.com/earth-engine/datasets/catalog/LANDSAT_LC08_C01_T1_SR), bands 2-7."
   ]
  },
  {
   "cell_type": "markdown",
   "metadata": {
    "colab_type": "text",
    "id": "0EJfjgelSOpN",
    "pycharm": {}
   },
   "source": [
    "## Prepare Landsat 8 imagery\n",
    "\n",
    "First, make a cloud-masked median composite of Landsat 8 surface reflectance imagery from 2018.  Check the composite by visualizing with folium."
   ]
  },
  {
   "cell_type": "code",
   "execution_count": 13,
   "metadata": {
    "colab": {},
    "colab_type": "code",
    "id": "DJYucYe3SPPr",
    "pycharm": {
     "is_executing": false
    },
    "scrolled": true
   },
   "outputs": [
    {
     "data": {
      "text/html": [
       "<div style=\"width:100%;\"><div style=\"position:relative;width:100%;height:0;padding-bottom:60%;\"><iframe src=\"data:text/html;charset=utf-8;base64,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\" style=\"position:absolute;width:100%;height:100%;left:0;top:0;border:none !important;\" allowfullscreen webkitallowfullscreen mozallowfullscreen></iframe></div></div>"
      ],
      "text/plain": [
       "<folium.folium.Map at 0x280c9680608>"
      ]
     },
     "execution_count": 13,
     "metadata": {},
     "output_type": "execute_result"
    }
   ],
   "source": [
    "# Use these bands for prediction.\n",
    "bands = ['B1','B2', 'B3', 'B4', 'B5', 'B6', 'B7']\n",
    "# Use Landsat 8 surface reflectance data.\n",
    "l7sr = ee.ImageCollection('LANDSAT/LC08/C01/T1_SR')\n",
    "l8sr = ee.ImageCollection(\"LANDSAT/LE07/C01/T1_SR\")\n",
    "\n",
    "# Cloud masking function.\n",
    "def maskL8sr(image):\n",
    "  cloudShadowBitMask = ee.Number(2).pow(3).int()\n",
    "  cloudsBitMask = ee.Number(2).pow(5).int()\n",
    "  qa = image.select('pixel_qa')\n",
    "  mask = qa.bitwiseAnd(cloudShadowBitMask).eq(0).And(\n",
    "    qa.bitwiseAnd(cloudsBitMask).eq(0))\n",
    "  return image.updateMask(mask).select(bands).divide(10000)\n",
    "\n",
    "# The image input data is a 2018 cloud-masked median composite.\n",
    "image = l8sr.filterDate('2018-01-01', '2018-12-31').map(maskL8sr).median()\n",
    "\n",
    "# Use folium to visualize the imagery.\n",
    "mapid = image.getMapId({'bands': ['B3', 'B2', 'B1'], 'min': 0, 'max': 0.3})\n",
    "map = folium.Map(location=[-38., -72.5], zoom_control=1)\n",
    "folium.TileLayer(\n",
    "    tiles=EE_TILES.format(**mapid),\n",
    "    attr='Google Earth Engine',\n",
    "    overlay=True,\n",
    "    name='median composite',\n",
    "  ).add_to(map)\n",
    "map.add_child(folium.LayerControl())\n",
    "map"
   ]
  },
  {
   "cell_type": "code",
   "execution_count": 14,
   "metadata": {
    "pycharm": {}
   },
   "outputs": [
    {
     "data": {
      "text/html": [
       "<div style=\"width:100%;\"><div style=\"position:relative;width:100%;height:0;padding-bottom:60%;\"><iframe src=\"data:text/html;charset=utf-8;base64,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\" style=\"position:absolute;width:100%;height:100%;left:0;top:0;border:none !important;\" allowfullscreen webkitallowfullscreen mozallowfullscreen></iframe></div></div>"
      ],
      "text/plain": [
       "<folium.folium.Map at 0x280c96806c8>"
      ]
     },
     "execution_count": 14,
     "metadata": {},
     "output_type": "execute_result"
    }
   ],
   "source": [
    "## Load the data and select the bands of interest.\n",
    "gfc2014 = ee.Image('UMD/hansen/global_forest_change_2015')\n",
    "lossImage = gfc2014.select(['loss'])\n",
    "gainImage = gfc2014.select(['gain'])\n",
    "\n",
    "\n",
    "\n",
    "# Use folium to visualize the imagery.\n",
    "mapid = gfc2014.getMapId({'bands': ['treecover2000'], 'min': 0, 'max': 100})\n",
    "map = folium.Map(location=[-38., -72.5], zoom_control=1)\n",
    "folium.TileLayer(\n",
    "    tiles=EE_TILES.format(**mapid),\n",
    "    palette=['000000', '00FF00'],\n",
    "    attr='Google Earth Engine',\n",
    "    overlay=True,\n",
    "    name='median composite',\n",
    "  ).add_to(map)\n",
    "map.add_child(folium.LayerControl())\n",
    "\n",
    "\n",
    "##Show the loss and gain image.\n",
    "#folium.Map.addLayer(gainImage.updateMask(gainImage),\n",
    "#    {palette: 'FF00FF'}, 'Gain and Loss')"
   ]
  },
  {
   "cell_type": "code",
   "execution_count": 15,
   "metadata": {
    "pycharm": {
     "is_executing": false
    }
   },
   "outputs": [
    {
     "name": "stdout",
     "output_type": "stream",
     "text": [
      "{'treecover2000': 27.436246889045645}\n"
     ]
    }
   ],
   "source": [
    "## Define a region in the angol region\n",
    "angol_geometry = ee.Geometry.Rectangle(-73.016, 37.95, -72.66, -38.15)\n",
    "\n",
    "## Load input NAIP imagery and build a mosaic.\n",
    "naipCollection = ee.ImageCollection('UMD/hansen/global_forest_change_2015').filterBounds(angol_geometry)\n",
    "naip = naipCollection.mosaic();\n",
    "\n",
    "## Compute NDVI from the NAIP imagery.\n",
    "naipNDVI = naip.normalizedDifference(['N', 'R']);\n",
    "\n",
    "## Compute standard deviation (SD) as texture of the NDVI.\n",
    "texture = naipNDVI.reduceNeighborhood(reducer=ee.Reducer.stdDev(),kernel=ee.Kernel.circle(7))\n",
    "\n",
    "\n",
    "gfc2014 = ee.Image('UMD/hansen/global_forest_change_2015');\n",
    "Image = gfc2014.select(['treecover2000']);\n",
    "\n",
    "\n",
    "stats = Image.reduceRegion(reducer=ee.Reducer.mean(), geometry=angol_geometry, scale=30, bestEffort=True)\n",
    "print(stats.getInfo())\n",
    "\n",
    "# Use folium to visualize the imagery.\n",
    "#mapid = naipCollection.getMapId({'bands': ['treecover2000'], 'min': 0, 'max': 100})\n",
    "#map = folium.Map(location=[-38., -72.5], zoom_control=1)\n",
    "#folium.TileLayer(\n",
    "#    tiles=EE_TILES.format(**mapid),\n",
    "#    palette=['000000', '00FF00'],\n",
    "#    attr='Google Earth Engine',\n",
    "#    overlay=True,\n",
    "#    name='median composite',\n",
    "#  ).add_to(map)\n",
    "#map.add_child(folium.LayerControl())\n",
    "\n",
    "\n",
    "## Display the results.\n",
    "#Map.centerObject(redwoods, 12);\n",
    "#Map.addLayer(naip, {}, 'NAIP input imagery');\n",
    "#Map.addLayer(naipNDVI, {min: -1, max: 1, palette: ['FF0000', '00FF00']}, 'NDVI');\n",
    "#Map.addLayer(texture, {min: 0, max: 0.3}, 'SD of NDVI');\n"
   ]
  },
  {
   "cell_type": "code",
   "execution_count": 18,
   "metadata": {
    "pycharm": {
     "is_executing": false
    }
   },
   "outputs": [
    {
     "ename": "AttributeError",
     "evalue": "'Image' object has no attribute 'filterBounds'",
     "output_type": "error",
     "traceback": [
      "\u001b[1;31m---------------------------------------------------------------------------\u001b[0m",
      "\u001b[1;31mAttributeError\u001b[0m                            Traceback (most recent call last)",
      "\u001b[1;32m<ipython-input-18-42d9c7f8d327>\u001b[0m in \u001b[0;36m<module>\u001b[1;34m\u001b[0m\n\u001b[0;32m      1\u001b[0m \u001b[1;31m##Load a landsat image and select three bands.\u001b[0m\u001b[1;33m\u001b[0m\u001b[1;33m\u001b[0m\u001b[1;33m\u001b[0m\u001b[0m\n\u001b[1;32m----> 2\u001b[1;33m \u001b[0mlandsat\u001b[0m \u001b[1;33m=\u001b[0m \u001b[0mee\u001b[0m\u001b[1;33m.\u001b[0m\u001b[0mImage\u001b[0m\u001b[1;33m(\u001b[0m\u001b[1;34m'LANDSAT/LE07/C01/T1_SR'\u001b[0m\u001b[1;33m)\u001b[0m\u001b[1;33m.\u001b[0m\u001b[0mselect\u001b[0m\u001b[1;33m(\u001b[0m\u001b[1;33m[\u001b[0m\u001b[1;34m'B4'\u001b[0m\u001b[1;33m,\u001b[0m \u001b[1;34m'B3'\u001b[0m\u001b[1;33m,\u001b[0m \u001b[1;34m'B2'\u001b[0m\u001b[1;33m]\u001b[0m\u001b[1;33m)\u001b[0m\u001b[1;33m.\u001b[0m\u001b[0mfilterBounds\u001b[0m\u001b[1;33m(\u001b[0m\u001b[1;33m[\u001b[0m\u001b[1;33m-\u001b[0m\u001b[1;36m73.016\u001b[0m\u001b[1;33m,\u001b[0m \u001b[1;33m-\u001b[0m\u001b[1;36m37.95\u001b[0m\u001b[1;33m,\u001b[0m \u001b[1;33m-\u001b[0m\u001b[1;36m73.016\u001b[0m\u001b[1;33m,\u001b[0m \u001b[1;33m-\u001b[0m\u001b[1;36m38.15\u001b[0m\u001b[1;33m,\u001b[0m \u001b[1;33m-\u001b[0m\u001b[1;36m72.66\u001b[0m\u001b[1;33m,\u001b[0m \u001b[1;33m-\u001b[0m\u001b[1;36m38.15\u001b[0m\u001b[1;33m,\u001b[0m \u001b[1;33m-\u001b[0m\u001b[1;36m72.66\u001b[0m\u001b[1;33m,\u001b[0m \u001b[1;33m-\u001b[0m\u001b[1;36m37.95\u001b[0m\u001b[1;33m]\u001b[0m\u001b[1;33m)\u001b[0m\u001b[1;33m\u001b[0m\u001b[1;33m\u001b[0m\u001b[0m\n\u001b[0m\u001b[0;32m      3\u001b[0m \u001b[1;33m\u001b[0m\u001b[0m\n\u001b[0;32m      4\u001b[0m \u001b[1;31m#LANDSAT/LC08/C01/T1_TOA/LC08_123032_20140515\u001b[0m\u001b[1;33m\u001b[0m\u001b[1;33m\u001b[0m\u001b[1;33m\u001b[0m\u001b[0m\n\u001b[0;32m      5\u001b[0m \u001b[1;31m##Create a geometry representing an export region.\u001b[0m\u001b[1;33m\u001b[0m\u001b[1;33m\u001b[0m\u001b[1;33m\u001b[0m\u001b[0m\n",
      "\u001b[1;31mAttributeError\u001b[0m: 'Image' object has no attribute 'filterBounds'"
     ]
    }
   ],
   "source": [
    "##Load a landsat image and select three bands.\n",
    "landsat = ee.Image('LANDSAT/LE07/C01/T1_SR').select(['B4', 'B3', 'B2']).filterBounds([-73.016, -37.95, -73.016, -38.15, -72.66, -38.15, -72.66, -37.95])\n",
    "\n",
    "#LANDSAT/LC08/C01/T1_TOA/LC08_123032_20140515\n",
    "##Create a geometry representing an export region.\n",
    "geometry = ee.Geometry.Rectangle([-73.016, -37.95, -73.016, -38.15, -72.66, -38.15, -72.66, -37.95])\n",
    "\n",
    "outputBucket = 'antonio_gay'\n",
    "\n",
    "##Export the image, specifying scale and region.\n",
    "task=ee.batch.Export.image.toCloudStorage(\n",
    "    image= landsat,\n",
    "    description= 'imageToDriveExample',\n",
    "    scale= 30,\n",
    "    bucket=outputBucket\n",
    ")\n",
    "task.start()"
   ]
  },
  {
   "cell_type": "code",
   "execution_count": null,
   "metadata": {
    "pycharm": {}
   },
   "outputs": [
    {
     "name": "stdout",
     "output_type": "stream",
     "text": [
      "[<Task EXPORT_IMAGE: imageToDriveExample (RUNNING)>, <Task EXPORT_IMAGE: imageToDriveExample (RUNNING)>, <Task EXPORT_IMAGE: Image Export (FAILED)>, <Task EXPORT_IMAGE: imageToDriveExample (FAILED)>, <Task EXPORT_IMAGE: imageToDriveExample (COMPLETED)>, <Task EXPORT_IMAGE: imageToDriveExample (COMPLETED)>, <Task EXPORT_IMAGE: imageToDriveExample (COMPLETED)>]\n",
      "Polling for task (id: 3JXJOY65VEEPBK6CHRTHPO4D).\n",
      "Polling for task (id: 3JXJOY65VEEPBK6CHRTHPO4D).\n",
      "Polling for task (id: 3JXJOY65VEEPBK6CHRTHPO4D).\n",
      "Polling for task (id: 3JXJOY65VEEPBK6CHRTHPO4D).\n",
      "Polling for task (id: 3JXJOY65VEEPBK6CHRTHPO4D).\n",
      "Polling for task (id: 3JXJOY65VEEPBK6CHRTHPO4D).\n",
      "Polling for task (id: 3JXJOY65VEEPBK6CHRTHPO4D).\n",
      "Polling for task (id: 3JXJOY65VEEPBK6CHRTHPO4D).\n",
      "Polling for task (id: 3JXJOY65VEEPBK6CHRTHPO4D).\n",
      "Polling for task (id: 3JXJOY65VEEPBK6CHRTHPO4D).\n",
      "Polling for task (id: 3JXJOY65VEEPBK6CHRTHPO4D).\n",
      "Polling for task (id: 3JXJOY65VEEPBK6CHRTHPO4D).\n",
      "Polling for task (id: 3JXJOY65VEEPBK6CHRTHPO4D).\n",
      "Polling for task (id: 3JXJOY65VEEPBK6CHRTHPO4D).\n",
      "Polling for task (id: 3JXJOY65VEEPBK6CHRTHPO4D).\n",
      "Polling for task (id: 3JXJOY65VEEPBK6CHRTHPO4D).\n",
      "Polling for task (id: 3JXJOY65VEEPBK6CHRTHPO4D).\n",
      "Polling for task (id: 3JXJOY65VEEPBK6CHRTHPO4D).\n",
      "Polling for task (id: 3JXJOY65VEEPBK6CHRTHPO4D).\n",
      "Polling for task (id: 3JXJOY65VEEPBK6CHRTHPO4D).\n",
      "Polling for task (id: 3JXJOY65VEEPBK6CHRTHPO4D).\n",
      "Polling for task (id: 3JXJOY65VEEPBK6CHRTHPO4D).\n",
      "Polling for task (id: 3JXJOY65VEEPBK6CHRTHPO4D).\n",
      "Polling for task (id: 3JXJOY65VEEPBK6CHRTHPO4D).\n",
      "Polling for task (id: 3JXJOY65VEEPBK6CHRTHPO4D).\n",
      "Polling for task (id: 3JXJOY65VEEPBK6CHRTHPO4D).\n",
      "Polling for task (id: 3JXJOY65VEEPBK6CHRTHPO4D).\n",
      "Polling for task (id: 3JXJOY65VEEPBK6CHRTHPO4D).\n",
      "Polling for task (id: 3JXJOY65VEEPBK6CHRTHPO4D).\n",
      "Polling for task (id: 3JXJOY65VEEPBK6CHRTHPO4D).\n",
      "Polling for task (id: 3JXJOY65VEEPBK6CHRTHPO4D).\n",
      "Polling for task (id: 3JXJOY65VEEPBK6CHRTHPO4D).\n",
      "Polling for task (id: 3JXJOY65VEEPBK6CHRTHPO4D).\n",
      "Polling for task (id: 3JXJOY65VEEPBK6CHRTHPO4D).\n",
      "Polling for task (id: 3JXJOY65VEEPBK6CHRTHPO4D).\n",
      "Polling for task (id: 3JXJOY65VEEPBK6CHRTHPO4D).\n",
      "Polling for task (id: 3JXJOY65VEEPBK6CHRTHPO4D).\n",
      "Polling for task (id: 3JXJOY65VEEPBK6CHRTHPO4D).\n",
      "Polling for task (id: 3JXJOY65VEEPBK6CHRTHPO4D).\n",
      "Polling for task (id: 3JXJOY65VEEPBK6CHRTHPO4D).\n",
      "Polling for task (id: 3JXJOY65VEEPBK6CHRTHPO4D).\n",
      "Polling for task (id: 3JXJOY65VEEPBK6CHRTHPO4D).\n",
      "Polling for task (id: 3JXJOY65VEEPBK6CHRTHPO4D).\n",
      "Polling for task (id: 3JXJOY65VEEPBK6CHRTHPO4D).\n",
      "Polling for task (id: 3JXJOY65VEEPBK6CHRTHPO4D).\n",
      "Polling for task (id: 3JXJOY65VEEPBK6CHRTHPO4D).\n",
      "Polling for task (id: 3JXJOY65VEEPBK6CHRTHPO4D).\n",
      "Polling for task (id: 3JXJOY65VEEPBK6CHRTHPO4D).\n",
      "Polling for task (id: 3JXJOY65VEEPBK6CHRTHPO4D).\n",
      "Polling for task (id: 3JXJOY65VEEPBK6CHRTHPO4D).\n",
      "Polling for task (id: 3JXJOY65VEEPBK6CHRTHPO4D).\n",
      "Polling for task (id: 3JXJOY65VEEPBK6CHRTHPO4D).\n",
      "Polling for task (id: 3JXJOY65VEEPBK6CHRTHPO4D).\n",
      "Polling for task (id: 3JXJOY65VEEPBK6CHRTHPO4D).\n",
      "Polling for task (id: 3JXJOY65VEEPBK6CHRTHPO4D).\n",
      "Polling for task (id: 3JXJOY65VEEPBK6CHRTHPO4D).\n",
      "Polling for task (id: 3JXJOY65VEEPBK6CHRTHPO4D).\n",
      "Polling for task (id: 3JXJOY65VEEPBK6CHRTHPO4D).\n",
      "Polling for task (id: 3JXJOY65VEEPBK6CHRTHPO4D).\n",
      "Polling for task (id: 3JXJOY65VEEPBK6CHRTHPO4D).\n",
      "Polling for task (id: 3JXJOY65VEEPBK6CHRTHPO4D).\n",
      "Polling for task (id: 3JXJOY65VEEPBK6CHRTHPO4D).\n",
      "Polling for task (id: 3JXJOY65VEEPBK6CHRTHPO4D).\n",
      "Polling for task (id: 3JXJOY65VEEPBK6CHRTHPO4D).\n",
      "Polling for task (id: 3JXJOY65VEEPBK6CHRTHPO4D).\n",
      "Polling for task (id: 3JXJOY65VEEPBK6CHRTHPO4D).\n",
      "Polling for task (id: 3JXJOY65VEEPBK6CHRTHPO4D).\n",
      "Polling for task (id: 3JXJOY65VEEPBK6CHRTHPO4D).\n",
      "Polling for task (id: 3JXJOY65VEEPBK6CHRTHPO4D).\n",
      "Polling for task (id: 3JXJOY65VEEPBK6CHRTHPO4D).\n",
      "Polling for task (id: 3JXJOY65VEEPBK6CHRTHPO4D).\n",
      "Polling for task (id: 3JXJOY65VEEPBK6CHRTHPO4D).\n",
      "Polling for task (id: 3JXJOY65VEEPBK6CHRTHPO4D).\n",
      "Polling for task (id: 3JXJOY65VEEPBK6CHRTHPO4D).\n",
      "Polling for task (id: 3JXJOY65VEEPBK6CHRTHPO4D).\n",
      "Polling for task (id: 3JXJOY65VEEPBK6CHRTHPO4D).\n",
      "Polling for task (id: 3JXJOY65VEEPBK6CHRTHPO4D).\n",
      "Polling for task (id: 3JXJOY65VEEPBK6CHRTHPO4D).\n",
      "Polling for task (id: 3JXJOY65VEEPBK6CHRTHPO4D).\n",
      "Polling for task (id: 3JXJOY65VEEPBK6CHRTHPO4D).\n",
      "Polling for task (id: 3JXJOY65VEEPBK6CHRTHPO4D).\n",
      "Polling for task (id: 3JXJOY65VEEPBK6CHRTHPO4D).\n",
      "Polling for task (id: 3JXJOY65VEEPBK6CHRTHPO4D).\n",
      "Polling for task (id: 3JXJOY65VEEPBK6CHRTHPO4D).\n",
      "Polling for task (id: 3JXJOY65VEEPBK6CHRTHPO4D).\n",
      "Polling for task (id: 3JXJOY65VEEPBK6CHRTHPO4D).\n",
      "Polling for task (id: 3JXJOY65VEEPBK6CHRTHPO4D).\n",
      "Polling for task (id: 3JXJOY65VEEPBK6CHRTHPO4D).\n",
      "Polling for task (id: 3JXJOY65VEEPBK6CHRTHPO4D).\n",
      "Polling for task (id: 3JXJOY65VEEPBK6CHRTHPO4D).\n",
      "Polling for task (id: 3JXJOY65VEEPBK6CHRTHPO4D).\n",
      "Polling for task (id: 3JXJOY65VEEPBK6CHRTHPO4D).\n"
     ]
    }
   ],
   "source": [
    "# Print all tasks.\n",
    "print(ee.batch.Task.list())\n",
    "\n",
    "# Poll the training task until it's done.\n",
    "import time \n",
    "while task.active():\n",
    "  print('Polling for task (id: {}).'.format(task.id))\n",
    "  time.sleep(5)\n",
    "print('Done with training export.')"
   ]
  },
  {
   "cell_type": "markdown",
   "metadata": {
    "colab_type": "text",
    "id": "UEeyPf3zSPct",
    "pycharm": {}
   },
   "source": [
    "## Add pixel values of the composite to labeled points.  \n",
    "\n",
    "Some training labels have already been collected for you.  Load the labeled points from an existing Earth Engine asset.  Each point in this table has a property called `landcover` that stores the label, encoded as an integer.  Here we overlay the points on  imagery to get predictor variables along with labels."
   ]
  },
  {
   "cell_type": "code",
   "execution_count": 54,
   "metadata": {
    "colab": {},
    "colab_type": "code",
    "id": "iOedOKyRExHE",
    "pycharm": {
     "is_executing": false
    }
   },
   "outputs": [
    {
     "name": "stdout",
     "output_type": "stream",
     "text": [
      "{'training': {'geometry': None,\n",
      "              'id': '0000cb0acb3cf8d7999f_0',\n",
      "              'properties': {'B1': 0.0886,\n",
      "                             'B2': 0.105,\n",
      "                             'B3': 0.1127,\n",
      "                             'B4': 0.1397,\n",
      "                             'B5': 0.1322,\n",
      "                             'B6': 0.2945,\n",
      "                             'B7': 0.1146,\n",
      "                             'landcover': 0,\n",
      "                             'random': 0.07220169979905},\n",
      "              'type': 'Feature'}}\n",
      "{'testing': {'geometry': None,\n",
      "             'id': '00009f65e3c9ae02b84e_0',\n",
      "             'properties': {'B1': 0.0499,\n",
      "                            'B2': 0.0612,\n",
      "                            'B3': 0.0395,\n",
      "                            'B4': 0.0254,\n",
      "                            'B5': 0.0142,\n",
      "                            'B6': 0.2853,\n",
      "                            'B7': 0.011,\n",
      "                            'landcover': 2,\n",
      "                            'random': 0.9932873990908074},\n",
      "             'type': 'Feature'}}\n"
     ]
    }
   ],
   "source": [
    "# Change the following two lines to use your own training data.\n",
    "labels = ee.FeatureCollection('projects/google/demo_landcover_labels')\n",
    "label = 'landcover'\n",
    "\n",
    "# Sample the image at the points and add a random column.\n",
    "sample = image.sampleRegions(\n",
    "  collection=labels, properties=[label], scale=30).randomColumn()\n",
    "\n",
    "# Partition the sample approximately 70-30.\n",
    "training = sample.filter(ee.Filter.lt('random', 0.7))\n",
    "testing = sample.filter(ee.Filter.gte('random', 0.7))\n",
    "\n",
    "from pprint import pprint\n",
    "\n",
    "# Print the first couple points to verify.\n",
    "pprint({'training': training.first().getInfo()})\n",
    "pprint({'testing': testing.first().getInfo()})"
   ]
  },
  {
   "cell_type": "markdown",
   "metadata": {
    "colab_type": "text",
    "id": "uNc7a2nRR4MI",
    "pycharm": {}
   },
   "source": [
    "## Export the training and testing data\n",
    "\n",
    "Now that there's training and testing data in Earth Engine and you've inspected a couple examples to ensure that the information you need is present, it's time to materialize the datasets in a place where the TensorFlow model has access to them.  You can do that by exporting the training and testing datasets to tables in TFRecord format ([learn more about TFRecord format](https://www.tensorflow.org/tutorials/load_data/tf-records)) in a Cloud Storage bucket ([learn more about creating Cloud Storage buckets](https://cloud.google.com/storage/docs/creating-buckets)).  Note that you need to have write access to the Cloud Storage bucket where the files will be output."
   ]
  },
  {
   "cell_type": "code",
   "execution_count": 34,
   "metadata": {
    "colab": {},
    "colab_type": "code",
    "id": "Pb-aPvQc0Xvp",
    "pycharm": {}
   },
   "outputs": [
    {
     "name": "stdout",
     "output_type": "stream",
     "text": [
      "Found Cloud Storage bucket.\n"
     ]
    }
   ],
   "source": [
    "# REPLACE WITH YOUR BUCKET!\n",
    "outputBucket = 'labeled_forest'\n",
    "\n",
    "# Make sure the bucket exists.\n",
    "print('Found Cloud Storage bucket.' if tf.gfile.Exists('gs://' + outputBucket) \n",
    "    else 'Output Cloud Storage bucket does not exist.')"
   ]
  },
  {
   "cell_type": "markdown",
   "metadata": {
    "colab_type": "text",
    "id": "Wtoqj0Db1TmJ",
    "pycharm": {}
   },
   "source": [
    "Once you've verified the existence of the intended output bucket, run the exports."
   ]
  },
  {
   "cell_type": "code",
   "execution_count": 35,
   "metadata": {
    "colab": {},
    "colab_type": "code",
    "id": "TfVNQzg8R6Wy",
    "pycharm": {}
   },
   "outputs": [
    {
     "ename": "NameError",
     "evalue": "name 'label' is not defined",
     "output_type": "error",
     "traceback": [
      "\u001b[0;31m---------------------------------------------------------------------------\u001b[0m",
      "\u001b[0;31mNameError\u001b[0m                                 Traceback (most recent call last)",
      "\u001b[0;32m<ipython-input-35-9cbae895ba28>\u001b[0m in \u001b[0;36m<module>\u001b[0;34m()\u001b[0m\n\u001b[1;32m      5\u001b[0m \u001b[0;31m# This is list of all the properties we want to export.\u001b[0m\u001b[0;34m\u001b[0m\u001b[0;34m\u001b[0m\u001b[0;34m\u001b[0m\u001b[0m\n\u001b[1;32m      6\u001b[0m \u001b[0mfeatureNames\u001b[0m \u001b[0;34m=\u001b[0m \u001b[0mlist\u001b[0m\u001b[0;34m(\u001b[0m\u001b[0mbands\u001b[0m\u001b[0;34m)\u001b[0m\u001b[0;34m\u001b[0m\u001b[0;34m\u001b[0m\u001b[0m\n\u001b[0;32m----> 7\u001b[0;31m \u001b[0mfeatureNames\u001b[0m\u001b[0;34m.\u001b[0m\u001b[0mappend\u001b[0m\u001b[0;34m(\u001b[0m\u001b[0mlabel\u001b[0m\u001b[0;34m)\u001b[0m\u001b[0;34m\u001b[0m\u001b[0;34m\u001b[0m\u001b[0m\n\u001b[0m\u001b[1;32m      8\u001b[0m \u001b[0;34m\u001b[0m\u001b[0m\n\u001b[1;32m      9\u001b[0m \u001b[0;31m# Create the tasks.\u001b[0m\u001b[0;34m\u001b[0m\u001b[0;34m\u001b[0m\u001b[0;34m\u001b[0m\u001b[0m\n",
      "\u001b[0;31mNameError\u001b[0m: name 'label' is not defined"
     ]
    }
   ],
   "source": [
    "# Names for output files.\n",
    "trainFilePrefix = 'Training_demo_'\n",
    "testFilePrefix = 'Testing_demo_'\n",
    "\n",
    "# This is list of all the properties we want to export.\n",
    "featureNames = list(bands)\n",
    "featureNames.append(label)\n",
    "\n",
    "# Create the tasks.\n",
    "trainingTask = ee.batch.Export.table.toCloudStorage(\n",
    "  collection=training,\n",
    "  description='Training Export',\n",
    "  fileNamePrefix=trainFilePrefix,\n",
    "  bucket=outputBucket,\n",
    "  fileFormat='TFRecord',\n",
    "  selectors=featureNames)\n",
    "\n",
    "testingTask = ee.batch.Export.table.toCloudStorage(\n",
    "  collection=testing,\n",
    "  description='Testing Export',\n",
    "  fileNamePrefix=testFilePrefix,\n",
    "  bucket=outputBucket,\n",
    "  fileFormat='TFRecord',\n",
    "  selectors=featureNames)"
   ]
  },
  {
   "cell_type": "code",
   "execution_count": 0,
   "metadata": {
    "colab": {},
    "colab_type": "code",
    "id": "QF4WGIekaS2s",
    "pycharm": {}
   },
   "outputs": [],
   "source": [
    "# Start the tasks.\n",
    "trainingTask.start()\n",
    "testingTask.start()"
   ]
  },
  {
   "cell_type": "markdown",
   "metadata": {
    "colab_type": "text",
    "id": "q7nFLuySISeC",
    "pycharm": {}
   },
   "source": [
    "### Monitor task progress\n",
    "\n",
    "You can see all your Earth Engine tasks by listing them.  It's also useful to repeatedly poll a task so you know when it's done.  Here we can do that because this is a relatively quick export.  Be careful when doing this with large exports because it will block the notebook from running other cells until this one completes."
   ]
  },
  {
   "cell_type": "code",
   "execution_count": 0,
   "metadata": {
    "colab": {},
    "colab_type": "code",
    "id": "oEWvS5ekcEq0",
    "pycharm": {}
   },
   "outputs": [],
   "source": [
    "# Print all tasks.\n",
    "print(ee.batch.Task.list())\n",
    "\n",
    "# Poll the training task until it's done.\n",
    "import time \n",
    "while trainingTask.active():\n",
    "  print('Polling for task (id: {}).'.format(trainingTask.id))\n",
    "  time.sleep(5)\n",
    "print('Done with training export.')"
   ]
  },
  {
   "cell_type": "markdown",
   "metadata": {
    "colab_type": "text",
    "id": "43-c0JNFI_m6",
    "pycharm": {}
   },
   "source": [
    "### Check existence of the exported files\n",
    "\n",
    "If you've seen the status of the export tasks change to `COMPLETED`, then check for the existince of the files in the output Cloud Storage bucket."
   ]
  },
  {
   "cell_type": "code",
   "execution_count": 0,
   "metadata": {
    "colab": {},
    "colab_type": "code",
    "id": "YDZfNl6yc0Kj",
    "pycharm": {}
   },
   "outputs": [],
   "source": [
    "fileNameSuffix = 'ee_export.tfrecord.gz'\n",
    "trainFilePath = 'gs://' + outputBucket + '/' + trainFilePrefix + fileNameSuffix\n",
    "testFilePath = 'gs://' + outputBucket + '/' + testFilePrefix + fileNameSuffix\n",
    "\n",
    "print('Found training file.' if tf.gfile.Exists(trainFilePath) \n",
    "    else 'No training file found.')\n",
    "print('Found testing file.' if tf.gfile.Exists(testFilePath) \n",
    "    else 'No testing file found.')"
   ]
  },
  {
   "cell_type": "markdown",
   "metadata": {
    "colab_type": "text",
    "id": "NA8QA8oQVo8V",
    "pycharm": {}
   },
   "source": [
    "## Export the imagery\n",
    "\n",
    "You can also export imagery using TFRecord format.  Specifically, export whatever imagery you want to be classified by the trained model into the output Cloud Storage bucket."
   ]
  },
  {
   "cell_type": "code",
   "execution_count": 0,
   "metadata": {
    "colab": {},
    "colab_type": "code",
    "id": "tVNhJYacVpEw",
    "pycharm": {}
   },
   "outputs": [],
   "source": [
    "imageFilePrefix = 'Image_pixel_demo_'\n",
    "\n",
    "# Specify patch and file dimensions.\n",
    "imageExportFormatOptions = {\n",
    "  'patchDimensions': [256, 256],\n",
    "  'maxFileSize': 104857600,\n",
    "  'compressed': True\n",
    "}\n",
    "\n",
    "# Export imagery in this region.\n",
    "exportRegion = ee.Geometry.Rectangle([-122.7, 37.3, -121.8, 38.00])\n",
    "\n",
    "# Setup the task.\n",
    "imageTask = ee.batch.Export.image.toCloudStorage(\n",
    "  image=image,\n",
    "  description='Image Export',\n",
    "  fileNamePrefix=imageFilePrefix,\n",
    "  bucket=outputBucket,\n",
    "  scale=30,\n",
    "  fileFormat='TFRecord',\n",
    "  region=exportRegion.toGeoJSON()['coordinates'],\n",
    "  formatOptions=imageExportFormatOptions,\n",
    "                                                                                         "
   ]
  },
  {
   "cell_type": "code",
   "execution_count": 0,
   "metadata": {
    "colab": {},
    "colab_type": "code",
    "id": "6SweCkHDaNE3",
    "pycharm": {}
   },
   "outputs": [],
   "source": [
    "# Start the task.\n",
    "imageTask.start()"
   ]
  },
  {
   "cell_type": "markdown",
   "metadata": {
    "colab_type": "text",
    "id": "JC8C53MRTG_E",
    "pycharm": {}
   },
   "source": [
    "### Monitor task progress\n",
    "\n",
    "Before making predictions, we need the image export to finish, so block until it does.  This might take a few minutes..."
   ]
  },
  {
   "cell_type": "code",
   "execution_count": 0,
   "metadata": {
    "colab": {},
    "colab_type": "code",
    "id": "rKZeZswloP11",
    "pycharm": {}
   },
   "outputs": [],
   "source": [
    "while imageTask.active():\n",
    "  print('Polling for task (id: {}).'.format(imageTask.id))\n",
    "  time.sleep(5)\n",
    "print('Done with image export.')"
   ]
  },
  {
   "cell_type": "markdown",
   "metadata": {
    "colab_type": "text",
    "id": "9vWdH_wlZCEk",
    "pycharm": {}
   },
   "source": [
    "# Data preparation and pre-processing\n",
    "\n",
    "Read data from the TFRecord file into a `tf.data.Dataset`.  Pre-process the dataset to get it into a suitable format for input to the model."
   ]
  },
  {
   "cell_type": "markdown",
   "metadata": {
    "colab_type": "text",
    "id": "LS4jGTrEfz-1",
    "pycharm": {}
   },
   "source": [
    "## Read into a `tf.data.Dataset`\n",
    "\n",
    "Here we are going to read a file in Cloud Storage into a `tf.data.Dataset`.  ([these TensorFlow docs](https://www.tensorflow.org/guide/premade_estimators#create_input_functions) explain more about reading data into a `Dataset`).  Check that you can read examples from the file.  The purpose here is to ensure that we can read from the file without an error.  The actual content is not necessarily human readable.\n",
    "\n"
   ]
  },
  {
   "cell_type": "code",
   "execution_count": 0,
   "metadata": {
    "cellView": "code",
    "colab": {},
    "colab_type": "code",
    "id": "T3PKyDQW8Vpx",
    "pycharm": {}
   },
   "outputs": [],
   "source": [
    "# Create a dataset from the TFRecord file in Cloud Storage.\n",
    "trainDataset = tf.data.TFRecordDataset(trainFilePath, compression_type='GZIP')\n",
    "# Print the first record to check.\n",
    "print(iter(trainDataset).next())"
   ]
  },
  {
   "cell_type": "markdown",
   "metadata": {
    "colab_type": "text",
    "id": "BrDYm-ibKR6t",
    "pycharm": {}
   },
   "source": [
    "## Define the structure of your data\n",
    "\n",
    "For parsing the exported TFRecord files, `featuresDict` is a mapping between feature names (recall that `featureNames` contains the band and label names) and `float32` [`tf.io.FixedLenFeature`](https://www.tensorflow.org/api_docs/python/tf/io/FixedLenFeature) objects.  This mapping is necessary for telling TensorFlow how to read data in a TFRecord file into tensors.  Specifically, all numeric data exported from Earth Engine is exported as `float32`.\n",
    "\n",
    "(Note: *features* in the TensorFlow context (i.e. [`feature.proto`](https://github.com/tensorflow/tensorflow/blob/r1.12/tensorflow/core/example/feature.proto)) are not to be confused with Earth Engine features (i.e. [`ee.Feature`](https://developers.google.com/earth-engine/api_docs#eefeature)), where the former is a protocol message type for serialized data input to the model and the latter is a geometry-based geographic data structure.)"
   ]
  },
  {
   "cell_type": "code",
   "execution_count": 0,
   "metadata": {
    "cellView": "code",
    "colab": {},
    "colab_type": "code",
    "id": "-6JVQV5HKHMZ",
    "pycharm": {}
   },
   "outputs": [],
   "source": [
    "# List of fixed-length features, all of which are float32.\n",
    "columns = [\n",
    "  tf.io.FixedLenFeature(shape=[1], dtype=tf.float32) for k in featureNames\n",
    "]\n",
    "\n",
    "# Dictionary with names as keys, features as values.\n",
    "featuresDict = dict(zip(featureNames, columns))\n",
    "\n",
    "pprint(featuresDict)"
   ]
  },
  {
   "cell_type": "markdown",
   "metadata": {
    "colab_type": "text",
    "id": "QNfaUPbcjuCO",
    "pycharm": {}
   },
   "source": [
    "## Parse the dataset\n",
    "\n",
    "Now we need to make a parsing function for the data in the TFRecord files.  The data comes in flattened 2D arrays per record and we want to use the first part of the array for input to the model and the last element of the array as the class label.  The parsing function reads data from a serialized `Example` proto (i.e. [`example.proto`](https://github.com/tensorflow/tensorflow/blob/r1.12/tensorflow/core/example/example.proto)) into a dictionary in which the keys are the feature names and the values are the tensors storing the value of the features for that example.  ([Learn more about parsing `Example` protocol buffer messages](https://www.tensorflow.org/programmers_guide/datasets#parsing_tfexample_protocol_buffer_messages))."
   ]
  },
  {
   "cell_type": "code",
   "execution_count": 0,
   "metadata": {
    "cellView": "code",
    "colab": {},
    "colab_type": "code",
    "id": "x2Q0g3fBj2kD",
    "pycharm": {}
   },
   "outputs": [],
   "source": [
    "def parse_tfrecord(example_proto):\n",
    "  \"\"\"The parsing function.\n",
    "\n",
    "  Read a serialized example into the structure defined by featuresDict.\n",
    "\n",
    "  Args:\n",
    "    example_proto: a serialized Example.\n",
    "  \n",
    "  Returns: \n",
    "    A tuple of the predictors dictionary and the label, cast to an `int32`.\n",
    "  \"\"\"\n",
    "  parsed_features = tf.io.parse_single_example(example_proto, featuresDict)\n",
    "  labels = parsed_features.pop(label)\n",
    "  return parsed_features, tf.cast(labels, tf.int32)\n",
    "\n",
    "# Map the function over the dataset.\n",
    "parsedDataset = trainDataset.map(parse_tfrecord, num_parallel_calls=5)\n",
    "\n",
    "# Print the first parsed record to check.\n",
    "pprint(iter(parsedDataset).next())"
   ]
  },
  {
   "cell_type": "markdown",
   "metadata": {
    "colab_type": "text",
    "id": "Nb8EyNT4Xnhb",
    "pycharm": {}
   },
   "source": [
    "Note that each record of the parsed dataset contains a tuple.  The first element of the tuple is a dictionary with bands for keys and the numeric value of the bands for values.  The second element of the tuple is a class label."
   ]
  },
  {
   "cell_type": "markdown",
   "metadata": {
    "colab_type": "text",
    "id": "xLCsxWOuEBmE",
    "pycharm": {}
   },
   "source": [
    "## Create additional features\n",
    "\n",
    "Another thing we might want to do as part of the input process is to create new features, for example NDVI, a vegetation index computed from reflectance in two spectral bands.  Here are some helper functions for that."
   ]
  },
  {
   "cell_type": "code",
   "execution_count": 0,
   "metadata": {
    "cellView": "code",
    "colab": {},
    "colab_type": "code",
    "id": "lT6v2RM_EB1E",
    "pycharm": {}
   },
   "outputs": [],
   "source": [
    "def normalizedDifference(a, b):\n",
    "  \"\"\"Compute normalized difference of two inputs.\n",
    "\n",
    "  Compute (a - b) / (a + b).  If the denomenator is zero, add a small delta.  \n",
    "\n",
    "  Args:\n",
    "    a: an input tensor with shape=[1]\n",
    "    b: an input tensor with shape=[1]\n",
    "\n",
    "  Returns:\n",
    "    The normalized difference as a tensor.\n",
    "  \"\"\"\n",
    "  nd = (a - b) / (a + b)\n",
    "  nd_inf = (a - b) / (a + b + 0.000001)\n",
    "  return tf.where(tf.is_finite(nd), nd, nd_inf)\n",
    "\n",
    "def addNDVI(features, label):\n",
    "  \"\"\"Add NDVI to the dataset.\n",
    "  Args: \n",
    "    features: a dictionary of input tensors keyed by feature name.\n",
    "    label: the target label\n",
    "  \n",
    "  Returns:\n",
    "    A tuple of the input dictionary with an NDVI tensor added and the label.\n",
    "  \"\"\"\n",
    "  features['NDVI'] = normalizedDifference(features['B5'], features['B4'])\n",
    "  return features, label"
   ]
  },
  {
   "cell_type": "markdown",
   "metadata": {
    "colab_type": "text",
    "id": "nEx1RAXOZQkS",
    "pycharm": {}
   },
   "source": [
    "# Model setup\n",
    "\n",
    "The basic workflow for classification in TensorFlow is:\n",
    "\n",
    "1.  Create the model.\n",
    "2.  Train the model (i.e. `fit()`).\n",
    "3.  Use the trained model for inference (i.e. `predict()`).\n",
    "\n",
    "Here we'll create a `Sequential` neural network model using Keras.  This simple model is inspired by examples in:\n",
    "\n",
    "* [The TensorFlow Get Started tutorial](https://www.tensorflow.org/tutorials/)\n",
    "* [The TensorFlow Keras guide](https://www.tensorflow.org/guide/keras#build_a_simple_model)\n",
    "* [The Keras `Sequential` model examples](https://keras.io/getting-started/sequential-model-guide/#multilayer-perceptron-mlp-for-multi-class-softmax-classification)\n",
    "\n",
    "Note that the model used here is purely for demonstration purposes and hasn't gone through any performance tuning."
   ]
  },
  {
   "cell_type": "markdown",
   "metadata": {
    "colab_type": "text",
    "id": "t9pWa54oG-xl",
    "pycharm": {}
   },
   "source": [
    "## Create the Keras model\n",
    "\n",
    "Before we create the model, there's still a wee bit of pre-processing to get the data into the right input shape and a format that can be used with cross-entropy loss.  Specifically, Keras expects a list of inputs and a one-hot vector for the class. (See [the Keras loss function docs](https://keras.io/losses/), [the TensorFlow categorical identity docs](https://www.tensorflow.org/guide/feature_columns#categorical_identity_column) and [the `tf.one_hot` docs](https://www.tensorflow.org/api_docs/python/tf/one_hot) for details).  \n",
    "\n",
    "Here we will use a simple neural network model with a 64 node hidden layer, a dropout layer and an output layer.  Once the dataset has been prepared, define the model, compile it, fit it to the training data.  See [the Keras `Sequential` model guide](https://keras.io/getting-started/sequential-model-guide/) for more details."
   ]
  },
  {
   "cell_type": "code",
   "execution_count": 0,
   "metadata": {
    "cellView": "code",
    "colab": {},
    "colab_type": "code",
    "id": "OCZq3VNpG--G",
    "pycharm": {}
   },
   "outputs": [],
   "source": [
    "from tensorflow import keras\n",
    "\n",
    "# How many classes there are in the model.\n",
    "nClasses = 3\n",
    "\n",
    "# Add NDVI.\n",
    "inputDataset = parsedDataset.map(addNDVI)\n",
    "\n",
    "# Keras requires inputs as a tuple.  Note that the inputs must be in the\n",
    "# right shape.  Also note that to use the categorical_crossentropy loss,\n",
    "# the label needs to be turned into a one-hot vector.\n",
    "def toTuple(dict, label):\n",
    "  return tf.transpose(list(dict.values())), tf.one_hot(indices=label, depth=nClasses)\n",
    "\n",
    "# Repeat the input dataset as many times as necessary in batches of 10.\n",
    "inputDataset = inputDataset.map(toTuple).repeat().batch(10)\n",
    "\n",
    "# Define the layers in the model.\n",
    "model = tf.keras.models.Sequential([\n",
    "  tf.keras.layers.Dense(64, activation=tf.nn.relu),\n",
    "  tf.keras.layers.Dropout(0.2),\n",
    "  tf.keras.layers.Dense(nClasses, activation=tf.nn.softmax)\n",
    "])\n",
    "\n",
    "# Compile the model with the specified loss function.\n",
    "model.compile(optimizer=tf.train.AdamOptimizer(),\n",
    "              loss='categorical_crossentropy',\n",
    "              metrics=['accuracy'])\n",
    "\n",
    "# Fit the model to the training data.\n",
    "# Don't forget to specify `steps_per_epoch` when calling `fit` on a dataset.\n",
    "model.fit(x=inputDataset, epochs=3, steps_per_epoch=100)\n"
   ]
  },
  {
   "cell_type": "markdown",
   "metadata": {
    "colab_type": "text",
    "id": "Pa4ex_4eKiyb",
    "pycharm": {}
   },
   "source": [
    "## Check model accuracy on the test set\n",
    "\n",
    "Now that we have a trained model, we can evaluate it using the test dataset.  To do that, read and prepare the test dataset in the same way as the training dataset.  Here we specify a batch sie of 1 so that each example in the test set is used exactly once to compute model accuracy.  For model steps, just specify a number larger than the test dataset size (ignore the warning)."
   ]
  },
  {
   "cell_type": "code",
   "execution_count": 0,
   "metadata": {
    "cellView": "code",
    "colab": {},
    "colab_type": "code",
    "id": "tE6d7FsrMa1p",
    "pycharm": {}
   },
   "outputs": [],
   "source": [
    "testDataset = (\n",
    "  tf.data.TFRecordDataset(testFilePath, compression_type='GZIP')\n",
    "    .map(parse_tfrecord, num_parallel_calls=5)\n",
    "    .map(addNDVI)\n",
    "    .map(toTuple)\n",
    "    .batch(1)\n",
    ")\n",
    "\n",
    "model.evaluate(testDataset, steps=100)"
   ]
  },
  {
   "cell_type": "markdown",
   "metadata": {
    "colab_type": "text",
    "id": "nhHrnv3VR0DU",
    "pycharm": {}
   },
   "source": [
    "# Use the trained model to classify an image from Earth Engine\n",
    "\n",
    "Now it's time to classify the image that was exported from Earth Engine.  If the exported image is large, it will be split into multiple TFRecord files in its destination folder.  There will also be a JSON sidecar file called \"the mixer\" that describes the format and georeferencing of the image.  Here we will find the image files and the mixer file, getting some info out of the mixer that will be useful during model inference."
   ]
  },
  {
   "cell_type": "markdown",
   "metadata": {
    "colab_type": "text",
    "id": "nmTayDitZgQ5",
    "pycharm": {}
   },
   "source": [
    "## Find the image files and JSON mixer file in Cloud Storage\n",
    "\n",
    "Use `gsutil` to locate the files of interest in the output Cloud Storage bucket.  Check to make sure your image export task finished before running the following."
   ]
  },
  {
   "cell_type": "code",
   "execution_count": 0,
   "metadata": {
    "colab": {},
    "colab_type": "code",
    "id": "oUv9WMpcVp8E",
    "pycharm": {}
   },
   "outputs": [],
   "source": [
    "# Get a list of all the files in the output bucket.\n",
    "filesList = !gsutil ls 'gs://'{outputBucket}\n",
    "# Get only the files generated by the image export.\n",
    "exportFilesList = [s for s in filesList if imageFilePrefix in s]\n",
    "\n",
    "# Get the list of image files and the JSON mixer file.\n",
    "imageFilesList = []\n",
    "jsonFile = None\n",
    "for f in exportFilesList:\n",
    "  if f.endswith('.tfrecord.gz'):\n",
    "    imageFilesList.append(f)\n",
    "  elif f.endswith('.json'):\n",
    "    jsonFile = f\n",
    "\n",
    "# Make sure the files are in the right order.\n",
    "imageFilesList.sort()\n",
    "\n",
    "pprint(imageFilesList)\n",
    "print(jsonFile)"
   ]
  },
  {
   "cell_type": "markdown",
   "metadata": {
    "colab_type": "text",
    "id": "RcjYG9fk53xL",
    "pycharm": {}
   },
   "source": [
    "## Read the JSON mixer file\n",
    "\n",
    "The mixer contains metadata and georeferencing information for the exported patches, each of which is in a different file.  Read the mixer to get some information needed for prediction."
   ]
  },
  {
   "cell_type": "code",
   "execution_count": 0,
   "metadata": {
    "colab": {},
    "colab_type": "code",
    "id": "Gn7Dr0AAd93_",
    "pycharm": {}
   },
   "outputs": [],
   "source": [
    "import json\n",
    "\n",
    "# Load the contents of the mixer file to a JSON object.\n",
    "jsonText = !gsutil cat {jsonFile}\n",
    "# Get a single string w/ newlines from the IPython.utils.text.SList\n",
    "mixer = json.loads(jsonText.nlstr)\n",
    "pprint(mixer)"
   ]
  },
  {
   "cell_type": "markdown",
   "metadata": {
    "colab_type": "text",
    "id": "6xyzyPPJwpVI",
    "pycharm": {}
   },
   "source": [
    "## Read the image files into a dataset\n",
    "\n",
    "You can feed the list of files (`imageFilesList`) directly to the `TFRecordDataset` constructor to make a combined dataset on which to perform inference.  The input needs to be preprocessed differently than the training and testing.  Mainly, this is because the pixels are written into records as patches, we need to read the patches in as one big tensor (one patch for each band), then flatten them into lots of little tensors."
   ]
  },
  {
   "cell_type": "code",
   "execution_count": 0,
   "metadata": {
    "cellView": "code",
    "colab": {},
    "colab_type": "code",
    "id": "tn8Kj3VfwpiJ",
    "pycharm": {}
   },
   "outputs": [],
   "source": [
    "# Get relevant info from the JSON mixer file.\n",
    "PATCH_WIDTH = mixer['patchDimensions'][0]\n",
    "PATCH_HEIGHT = mixer['patchDimensions'][1]\n",
    "PATCHES = mixer['totalPatches']\n",
    "PATCH_DIMENSIONS_FLAT = [PATCH_WIDTH * PATCH_HEIGHT, 1]\n",
    "\n",
    "# Note that the tensors are in the shape of a patch, one patch for each band.\n",
    "imageColumns = [\n",
    "  tf.FixedLenFeature(shape=PATCH_DIMENSIONS_FLAT, dtype=tf.float32) \n",
    "    for k in bands\n",
    "]\n",
    "\n",
    "# Parsing dictionary.\n",
    "imageFeaturesDict = dict(zip(bands, imageColumns))\n",
    "\n",
    "# Note that you can make one dataset from many files by specifying a list.\n",
    "imageDataset = tf.data.TFRecordDataset(imageFilesList, compression_type='GZIP')\n",
    "\n",
    "# Parsing function.\n",
    "def parse_image(example_proto):\n",
    "  return tf.parse_single_example(example_proto, imageFeaturesDict)\n",
    "\n",
    "# Parse the data into tensors, one long tensor per patch.\n",
    "imageDataset = imageDataset.map(parse_image, num_parallel_calls=5)\n",
    "\n",
    "# Break our long tensors into many little ones.\n",
    "imageDataset = imageDataset.flat_map(\n",
    "  lambda features: tf.data.Dataset.from_tensor_slices(features)\n",
    ")\n",
    "\n",
    "# Add additional features (NDVI).\n",
    "imageDataset = imageDataset.map(\n",
    "  # Add NDVI to a feature that doesn't have a label.\n",
    "  lambda features: addNDVI(features, None)[0]\n",
    ")\n",
    "\n",
    "# Turn the dictionary in each record into a tuple with a dummy label.\n",
    "imageDataset = imageDataset.map(\n",
    "  # Add a dummy target (-1), with a value that is obviously ridiculous.\n",
    "  # This is because the model expects a tuple of (inputs, label).\n",
    "  lambda dataDict: (tf.transpose(list(dataDict.values())), tf.constant(-1))\n",
    ")\n",
    "\n",
    "# Turn each patch into a batch.\n",
    "imageDataset = imageDataset.batch(PATCH_WIDTH * PATCH_HEIGHT)"
   ]
  },
  {
   "cell_type": "markdown",
   "metadata": {
    "colab_type": "text",
    "id": "_2sfRemRRDkV",
    "pycharm": {}
   },
   "source": [
    "## Generate predictions for the image pixels\n",
    "\n",
    "To get predictions in each pixel, run the image dataset through the trained model using `model.predict()`.  Print the first prediction to see that the output is a list of the three class probabilities for each pixel.  Running all predictions might take a while."
   ]
  },
  {
   "cell_type": "code",
   "execution_count": 0,
   "metadata": {
    "colab": {},
    "colab_type": "code",
    "id": "8VGhmiP_REBP",
    "pycharm": {}
   },
   "outputs": [],
   "source": [
    "# Run prediction in batches, with as many steps as there are patches.\n",
    "predictions = model.predict(imageDataset, steps=PATCHES, verbose=1)\n",
    "\n",
    "# Note that the predictions come as a numpy array.  Check the first one.\n",
    "print(predictions[0])"
   ]
  },
  {
   "cell_type": "markdown",
   "metadata": {
    "colab_type": "text",
    "id": "bPU2VlPOikAy",
    "pycharm": {}
   },
   "source": [
    "## Write the predictions to a TFRecord file\n",
    "\n",
    "Now that there's a list of class probabilities in `predictions`, it's time to write them back into a file, optionally including a class label which is simply the index of the maximum probability.  We'll write directly from TensorFlow to a file in the output Cloud Storage bucket.\n",
    "\n",
    "Iterate over the list, compute class label and write the class and the probabilities in patches.  Specifically, we need to write the pixels into the file as patches in the same order they came out.  The records are written as serialized `tf.train.Example` protos.  This might take a while."
   ]
  },
  {
   "cell_type": "code",
   "execution_count": 0,
   "metadata": {
    "colab": {},
    "colab_type": "code",
    "id": "AkorbsEHepzJ",
    "pycharm": {}
   },
   "outputs": [],
   "source": [
    "outputImageFile = 'gs://' + outputBucket + '/Classified_pixel_demo.TFRecord'\n",
    "print('Writing to file ' + outputImageFile)"
   ]
  },
  {
   "cell_type": "code",
   "execution_count": 0,
   "metadata": {
    "cellView": "code",
    "colab": {},
    "colab_type": "code",
    "id": "kATMknHc0qeR",
    "pycharm": {}
   },
   "outputs": [],
   "source": [
    "# Instantiate the writer.\n",
    "writer = tf.python_io.TFRecordWriter(outputImageFile)\n",
    "\n",
    "# Every patch-worth of predictions we'll dump an example into the output\n",
    "# file with a single feature that holds our predictions. Since our predictions\n",
    "# are already in the order of the exported data, the patches we create here\n",
    "# will also be in the right order.\n",
    "patch = [[], [], [], []]\n",
    "curPatch = 1\n",
    "for prediction in predictions:\n",
    "  patch[0].append(tf.argmax(prediction, 1))\n",
    "  patch[1].append(prediction[0][0])\n",
    "  patch[2].append(prediction[0][1])\n",
    "  patch[3].append(prediction[0][2])\n",
    "  # Once we've seen a patches-worth of class_ids...\n",
    "  if (len(patch[0]) == PATCH_WIDTH * PATCH_HEIGHT):\n",
    "    print('Done with patch ' + str(curPatch) + ' of ' + str(PATCHES) + '...')\n",
    "    # Create an example\n",
    "    example = tf.train.Example(\n",
    "      features=tf.train.Features(\n",
    "        feature={\n",
    "          'prediction': tf.train.Feature(\n",
    "              int64_list=tf.train.Int64List(\n",
    "                  value=patch[0])),\n",
    "          'bareProb': tf.train.Feature(\n",
    "              float_list=tf.train.FloatList(\n",
    "                  value=patch[1])),\n",
    "          'vegProb': tf.train.Feature(\n",
    "              float_list=tf.train.FloatList(\n",
    "                  value=patch[2])),\n",
    "          'waterProb': tf.train.Feature(\n",
    "              float_list=tf.train.FloatList(\n",
    "                  value=patch[3])),\n",
    "        }\n",
    "      )\n",
    "    )\n",
    "    # Write the example to the file and clear our patch array so it's ready for\n",
    "    # another batch of class ids\n",
    "    writer.write(example.SerializeToString())\n",
    "    patch = [[], [], [], []]\n",
    "    curPatch += 1\n",
    "\n",
    "writer.close()"
   ]
  },
  {
   "cell_type": "markdown",
   "metadata": {
    "colab_type": "text",
    "id": "1K_1hKs0aBdA",
    "pycharm": {}
   },
   "source": [
    "# Upload the classifications to an Earth Engine asset"
   ]
  },
  {
   "cell_type": "markdown",
   "metadata": {
    "colab_type": "text",
    "id": "M6sNZXWOSa82",
    "pycharm": {}
   },
   "source": [
    "## Verify the existence of the predictions file\n",
    "\n",
    "At this stage, there should be a predictions TFRecord file sitting in the output Cloud Storage bucket.  Use the `gsutil` command to verify that the predictions image (and associated mixer JSON) exist and have non-zero size."
   ]
  },
  {
   "cell_type": "code",
   "execution_count": 0,
   "metadata": {
    "colab": {},
    "colab_type": "code",
    "id": "6ZVWDPefUCgA",
    "pycharm": {}
   },
   "outputs": [],
   "source": [
    "!gsutil ls -l {outputImageFile}"
   ]
  },
  {
   "cell_type": "markdown",
   "metadata": {
    "colab_type": "text",
    "id": "2ZyCo297Clcx",
    "pycharm": {}
   },
   "source": [
    "## Upload the classified image to Earth Engine\n",
    "\n",
    "Upload the image to Earth Engine directly from the Cloud Storage bucket with the [`earthengine` command](https://developers.google.com/earth-engine/command_line#upload).  Provide both the image TFRecord file and the JSON file as arguments to `earthengine upload`."
   ]
  },
  {
   "cell_type": "code",
   "execution_count": 0,
   "metadata": {
    "cellView": "code",
    "colab": {},
    "colab_type": "code",
    "id": "NXulMNl9lTDv",
    "pycharm": {}
   },
   "outputs": [],
   "source": [
    "# REPLACE WITH YOUR USERNAME:\n",
    "USER_NAME = 'nclinton'\n",
    "outputAssetID = 'users/' + USER_NAME + '/Classified_pixel_demo'\n",
    "print('Writing to ' + outputAssetID)"
   ]
  },
  {
   "cell_type": "code",
   "execution_count": 0,
   "metadata": {
    "colab": {},
    "colab_type": "code",
    "id": "V64tcVxsO5h6",
    "pycharm": {}
   },
   "outputs": [],
   "source": [
    "# Start the upload.\n",
    "!earthengine upload image --asset_id={outputAssetID} {outputImageFile} {jsonFile}"
   ]
  },
  {
   "cell_type": "markdown",
   "metadata": {
    "colab_type": "text",
    "id": "Yt4HyhUU_Bal",
    "pycharm": {}
   },
   "source": [
    "## Check the status of the asset ingestion\n",
    "\n",
    "You can also use the Earth Engine API to check the status of your asset upload.  It might take a while.  The upload of the image is an asset ingestion task.  "
   ]
  },
  {
   "cell_type": "code",
   "execution_count": 0,
   "metadata": {
    "cellView": "code",
    "colab": {},
    "colab_type": "code",
    "id": "_vB-gwGhl_3C",
    "pycharm": {}
   },
   "outputs": [],
   "source": [
    "ee.batch.Task.list()"
   ]
  },
  {
   "cell_type": "markdown",
   "metadata": {
    "colab_type": "text",
    "id": "vvXvy9GDhM-p",
    "pycharm": {}
   },
   "source": [
    "## View the ingested asset\n",
    "\n",
    "Display the vector of class probabilities as an RGB image with colors corresponding to the probability of bare, vegetation, water in a pixel.  Also display the winning class using the same color palette."
   ]
  },
  {
   "cell_type": "code",
   "execution_count": 0,
   "metadata": {
    "colab": {},
    "colab_type": "code",
    "id": "kEkVxIyJiFd4",
    "pycharm": {}
   },
   "outputs": [],
   "source": [
    "predictionsImage = ee.Image(outputAssetID)\n",
    "\n",
    "predictionVis = {\n",
    "  'bands': 'prediction',\n",
    "  'min': 0,\n",
    "  'max': 2,\n",
    "  'palette': ['red', 'green', 'blue']\n",
    "}\n",
    "probabilityVis = {'bands': ['bareProb', 'vegProb', 'waterProb']}\n",
    "\n",
    "predictionMapid = predictionsImage.getMapId(predictionVis)\n",
    "probabilityMapid = predictionsImage.getMapId(probabilityVis)\n",
    "\n",
    "map = folium.Map(location=[38., -122.5])\n",
    "folium.TileLayer(\n",
    "  tiles=EE_TILES.format(**predictionMapid),\n",
    "  attr='Google Earth Engine',\n",
    "  overlay=True,\n",
    "  name='prediction',\n",
    ").add_to(map)\n",
    "folium.TileLayer(\n",
    "  tiles=EE_TILES.format(**probabilityMapid),\n",
    "  attr='Google Earth Engine',\n",
    "  overlay=True,\n",
    "  name='probability',\n",
    ").add_to(map)\n",
    "map.add_child(folium.LayerControl())\n",
    "map"
   ]
  }
 ],
 "metadata": {
  "accelerator": "GPU",
  "colab": {
   "collapsed_sections": [],
   "name": "TF_demo1_keras.ipynb",
   "private_outputs": true,
   "provenance": [],
   "toc_visible": true,
   "version": "0.3.2"
  },
  "kernelspec": {
   "display_name": "Python 3",
   "language": "python",
   "name": "python3"
  },
  "language_info": {
   "codemirror_mode": {
    "name": "ipython",
    "version": 3
   },
   "file_extension": ".py",
   "mimetype": "text/x-python",
   "name": "python",
   "nbconvert_exporter": "python",
   "pygments_lexer": "ipython3",
   "version": "3.7.4"
  },
  "pycharm": {
   "stem_cell": {
    "cell_type": "raw",
    "metadata": {
     "collapsed": false
    },
    "source": []
   }
  }
 },
 "nbformat": 4,
 "nbformat_minor": 1
}
